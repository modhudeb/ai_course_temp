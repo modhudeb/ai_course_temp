{
  "nbformat": 4,
  "nbformat_minor": 0,
  "metadata": {
    "colab": {
      "provenance": [],
      "gpuType": "T4",
      "mount_file_id": "1QzIee1cC-ZlQNZlki8wvvT0BshNRt4pe",
      "authorship_tag": "ABX9TyO5DHHpIhfa6sDfBFLXjKqt",
      "include_colab_link": true
    },
    "kernelspec": {
      "name": "python3",
      "display_name": "Python 3"
    },
    "language_info": {
      "name": "python"
    },
    "accelerator": "GPU"
  },
  "cells": [
    {
      "cell_type": "markdown",
      "metadata": {
        "id": "view-in-github",
        "colab_type": "text"
      },
      "source": [
        "<a href=\"https://colab.research.google.com/github/modhudeb/ai_course_temp/blob/main/Pnemonia_Classification.ipynb\" target=\"_parent\"><img src=\"https://colab.research.google.com/assets/colab-badge.svg\" alt=\"Open In Colab\"/></a>"
      ]
    },
    {
      "cell_type": "markdown",
      "source": [
        "# Imports"
      ],
      "metadata": {
        "id": "rF3JfnUj-9xi"
      }
    },
    {
      "cell_type": "code",
      "source": [
        "import os\n",
        "import logging\n",
        "import zipfile\n",
        "import cv2\n",
        "from pathlib import Path\n",
        "import numpy as np\n",
        "import pandas as pd\n",
        "from tqdm import tqdm"
      ],
      "metadata": {
        "id": "Fla-zDPb-wIy"
      },
      "execution_count": null,
      "outputs": []
    },
    {
      "cell_type": "code",
      "source": [
        "import tensorflow as tf\n",
        "from tensorflow.keras.applications import ResNet50\n",
        "from tensorflow.keras import layers, models"
      ],
      "metadata": {
        "id": "1WgjIicp-ieV"
      },
      "execution_count": null,
      "outputs": []
    },
    {
      "cell_type": "markdown",
      "source": [
        "# Loading Images"
      ],
      "metadata": {
        "id": "CHjvQY-V_AGp"
      }
    },
    {
      "cell_type": "code",
      "source": [
        "zip_loc = '/content/drive/MyDrive/data/files/chest_xray.zip'\n",
        "extract_loc = '/content/drive/MyDrive/data/files/chest_xray/'\n",
        "log_loc = '/content/logs/'\n",
        "os.makedirs(log_loc, exist_ok=True)"
      ],
      "metadata": {
        "id": "5adDqaM3Fjjk"
      },
      "execution_count": null,
      "outputs": []
    },
    {
      "cell_type": "code",
      "source": [
        "logger = logging.getLogger('Data-Handler')\n",
        "logger.setLevel('DEBUG')\n",
        "\n",
        "ch = logging.StreamHandler()\n",
        "ch.setLevel('DEBUG')\n",
        "\n",
        "fh = logging.FileHandler(os.path.join(log_loc, 'data_hisoty.log'))\n",
        "fh.setLevel('DEBUG')\n",
        "\n",
        "formatter = logging.Formatter(\"%(asctime)s - [%(levelname)s] - %(message)s\",\n",
        "                              datefmt=\"%Y-%m-%d %H:%M:%S\")\n",
        "\n",
        "ch.setFormatter(formatter)\n",
        "fh.setFormatter(formatter)\n",
        "\n",
        "logger.addHandler(ch)\n",
        "logger.addHandler(fh)"
      ],
      "metadata": {
        "id": "dho2-o-uHfu0"
      },
      "execution_count": null,
      "outputs": []
    },
    {
      "cell_type": "code",
      "source": [
        "# !!!!!\n",
        "def unzip_file(zip_loc:str, extract_loc:str):\n",
        "    try:\n",
        "        os.makedirs(extract_loc, exist_ok=True)\n",
        "        with zipfile.ZipFile(zip_loc, 'r') as zf:\n",
        "            logger.info(f'Extracting file to {extract_loc}')\n",
        "            zf.extractall(extract_loc)\n",
        "            logger.debug(f'Extracted {len(zf.namelist())} files...')\n",
        "    except Exception as e:\n",
        "        logger.error('Zip file not found...')\n",
        "\n",
        "\n",
        "\n",
        "\n",
        "unzip_file(zip_loc, extract_loc)"
      ],
      "metadata": {
        "colab": {
          "base_uri": "https://localhost:8080/"
        },
        "id": "vobTNdLDLF-O",
        "outputId": "a0c35e24-b344-4691-8db1-c6a35760857c"
      },
      "execution_count": null,
      "outputs": [
        {
          "output_type": "stream",
          "name": "stderr",
          "text": [
            "2025-08-23 17:21:10 - [INFO] - Extracting file to /content/drive/MyDrive/data/files/chest_xray/\n",
            "INFO:Data-Handler:Extracting file to /content/drive/MyDrive/data/files/chest_xray/\n",
            "2025-08-23 17:24:22 - [DEBUG] - Extracted 5861 files...\n",
            "DEBUG:Data-Handler:Extracted 5861 files...\n"
          ]
        }
      ]
    },
    {
      "cell_type": "code",
      "source": [],
      "metadata": {
        "id": "7Wblz69WwzCh"
      },
      "execution_count": null,
      "outputs": []
    },
    {
      "cell_type": "markdown",
      "source": [
        "# Preprocess\n"
      ],
      "metadata": {
        "id": "jMRIgni8_EOg"
      }
    },
    {
      "cell_type": "code",
      "source": [
        "# ------------------ Helper Functions ------------------\n",
        "def apply_clahe(img: np.ndarray) -> np.ndarray:\n",
        "    if len(img.shape) == 3:\n",
        "        img = cv2.cvtColor(img, cv2.COLOR_BGR2GRAY)\n",
        "    img_uint8 = np.uint8(img)\n",
        "\n",
        "    clahe = cv2.createCLAHE(clipLimit=2.0, tileGridSize=(8,8))\n",
        "    img_uint8 = clahe.apply(img_uint8)\n",
        "    img_uint8 = cv2.cvtColor(img_uint8, cv2.COLOR_GRAY2RGB)\n",
        "    return img_uint8\n",
        "\n",
        "\n",
        "def apply_sobel(img: np.ndarray) -> np.ndarray:\n",
        "    sobelx = cv2.Sobel(img, cv2.CV_64F, 1, 0, ksize=3)\n",
        "    sobely = cv2.Sobel(img, cv2.CV_64F, 0, 1, ksize=3)\n",
        "    sobel = cv2.magnitude(sobelx, sobely)\n",
        "    return np.uint8(np.clip(sobel, 0, 255))\n",
        "\n",
        "def apply_laplacian(img: np.ndarray) -> np.ndarray:\n",
        "    lap = cv2.Laplacian(img, cv2.CV_64F)\n",
        "    return np.uint8(np.clip(lap, 0, 255))\n",
        "\n",
        "def apply_canny(img: np.ndarray) -> np.ndarray:\n",
        "    img = cv2.Canny(img, 50, 150)\n",
        "    img = cv2.cvtColor(img, cv2.COLOR_GRAY2RGB)\n",
        "    return img\n",
        "\n",
        "# ------------------ Main Function ------------------\n",
        "from tqdm import tqdm\n",
        "\n",
        "# ------------------ Main Function ------------------\n",
        "import os\n",
        "import cv2\n",
        "import numpy as np\n",
        "from tqdm import tqdm\n",
        "import gc\n",
        "\n",
        "# ------------------ Main Function ------------------\n",
        "import os\n",
        "import cv2\n",
        "import gc\n",
        "import numpy as np\n",
        "from tqdm import tqdm\n",
        "\n",
        "# ------------------ Main Function ------------------\n",
        "def process_and_dataframe(raw_dir: str, processed_dir: str, target_size=(224,224), apply_filters: bool=True,\n",
        "                          chunk_size: int=500):\n",
        "    \"\"\"\n",
        "    Preprocess images into arrays and save resized RGB copies with memory-efficient chunking.\n",
        "    ---------\n",
        "    Inputs:\n",
        "        `raw_dir`: path where `PNEUMONIA` and `NORMAL` sub folders are located (raw dataset)\n",
        "        `processed_dir`: path where preprocessed resized images will be saved\n",
        "        `target_size`: tuple (H,W) for resizing images (default: (224,224))\n",
        "        `apply_filters`: True to also return filtered image arrays (not saved to disk)\n",
        "        `chunk_size`: number of images to accumulate before pushing to permanent chunks and clearing temp buffers\n",
        "    ---------\n",
        "    Returns:\n",
        "        X_no_filter: np.ndarray of raw resized RGB images\n",
        "        y_no_filter: np.ndarray of labels (0=Normal, 1=Pneumonia)\n",
        "        filters_dict: dictionary with keys ['clahe','sobel','laplacian','canny']\n",
        "                      each value is np.ndarray of images after applying that filter\n",
        "                      (only if apply_filters=True)\n",
        "    \"\"\"\n",
        "    os.makedirs(processed_dir, exist_ok=True)\n",
        "\n",
        "    # Permanent chunk containers (list of arrays)\n",
        "    X_chunks, y_chunks = [], []\n",
        "    filters_chunks = {'clahe': [], 'sobel': [], 'laplacian': [], 'canny': []} if apply_filters else None\n",
        "\n",
        "    # Temporary buffers (lists) that will be periodically flushed to the permanent chunk lists\n",
        "    X_buf, y_buf = [], []\n",
        "    filt_buf = {'clahe': [], 'sobel': [], 'laplacian': [], 'canny': []} if apply_filters else None\n",
        "\n",
        "    for cls in ['PNEUMONIA', 'NORMAL']:\n",
        "        label = 1 if 'PNEUMONIA' in cls.upper() else 0\n",
        "\n",
        "        cls_raw = os.path.join(raw_dir, cls)\n",
        "        cls_proc = os.path.join(processed_dir, cls)\n",
        "        os.makedirs(cls_proc, exist_ok=True)\n",
        "\n",
        "        logger.info(f\"Processing {cls_raw}...\")\n",
        "\n",
        "        try:\n",
        "            img_files = [f for f in os.listdir(cls_raw) if f.lower().endswith(('.jpg', '.jpeg', '.png'))]\n",
        "\n",
        "            for img_name in tqdm(img_files, desc=f\"Processing {cls}\", unit=\"img\"):\n",
        "                img_path = os.path.join(cls_raw, img_name)\n",
        "\n",
        "                # Read in grayscale for consistent preprocessing\n",
        "                img = cv2.imread(img_path, cv2.IMREAD_GRAYSCALE)\n",
        "                if img is None:\n",
        "                    logger.warning(f\"Skipped corrupted image: {img_path}\")\n",
        "                    continue\n",
        "\n",
        "                # Resize & convert to RGB (3-channel) for saving and model input\n",
        "                img_resized = cv2.resize(img, target_size)\n",
        "                img_rgb = cv2.cvtColor(img_resized, cv2.COLOR_GRAY2RGB)\n",
        "\n",
        "                # Save processed copy\n",
        "                filename = os.path.splitext(os.path.basename(img_path))[0]\n",
        "                save_path = os.path.join(cls_proc, f\"{filename}.jpg\")\n",
        "                cv2.imwrite(save_path, img_rgb)\n",
        "\n",
        "                # Accumulate into temp buffers\n",
        "                X_buf.append(img_rgb)\n",
        "                y_buf.append(label)\n",
        "\n",
        "                if apply_filters:\n",
        "                    # Apply filters on the resized grayscale to keep shapes aligned with target_size\n",
        "                    filt_buf['clahe'].append(apply_clahe(img_resized))\n",
        "                    filt_buf['sobel'].append(apply_sobel(img_resized))\n",
        "                    filt_buf['laplacian'].append(apply_laplacian(img_resized))\n",
        "                    filt_buf['canny'].append(apply_canny(img_resized))\n",
        "\n",
        "                # When buffer reaches chunk_size -> push to permanent chunk lists and clear\n",
        "                if len(X_buf) >= chunk_size:\n",
        "                    logger.info(f\"Chunk commit: pushing {len(X_buf)} images to permanent storage and clearing buffers...\")\n",
        "                    X_chunks.append(np.array(X_buf, dtype=np.uint8))\n",
        "                    y_chunks.append(np.array(y_buf, dtype=np.uint8))\n",
        "                    X_buf.clear(); y_buf.clear()\n",
        "\n",
        "                    if apply_filters:\n",
        "                        for k in filt_buf:\n",
        "                            # Each filter may be 1-channel or 3-channel depending on your helper\n",
        "                            filters_chunks[k].append(np.array(filt_buf[k], dtype=np.uint8))\n",
        "                            filt_buf[k].clear()\n",
        "\n",
        "                    gc.collect()\n",
        "\n",
        "        except Exception as e:\n",
        "            logger.error(f\"Error processing {cls_raw}: {e}\")\n",
        "\n",
        "        logger.info(f\"Completed {cls_raw}!\")\n",
        "\n",
        "    # Flush any leftovers in buffers\n",
        "    if len(X_buf) > 0:\n",
        "        logger.info(f\"Final commit: pushing leftover {len(X_buf)} images to permanent storage...\")\n",
        "        X_chunks.append(np.array(X_buf, dtype=np.uint8))\n",
        "        y_chunks.append(np.array(y_buf, dtype=np.uint8))\n",
        "        X_buf.clear(); y_buf.clear()\n",
        "\n",
        "        if apply_filters:\n",
        "            for k in filt_buf:\n",
        "                if len(filt_buf[k]) > 0:\n",
        "                    filters_chunks[k].append(np.array(filt_buf[k], dtype=np.uint8))\n",
        "                    filt_buf[k].clear()\n",
        "\n",
        "    gc.collect()\n",
        "\n",
        "    # Concatenate all permanent chunks into final arrays\n",
        "    X_no_filter = np.concatenate(X_chunks, axis=0) if len(X_chunks) else np.empty((0, target_size[0], target_size[1], 3), dtype=np.uint8)\n",
        "    y_no_filter = np.concatenate(y_chunks, axis=0) if len(y_chunks) else np.empty((0,), dtype=np.uint8)\n",
        "\n",
        "    if apply_filters:\n",
        "        final_filters = {}\n",
        "        for k, chunk_list in filters_chunks.items():\n",
        "            if len(chunk_list):\n",
        "                final_filters[k] = np.concatenate(chunk_list, axis=0)\n",
        "            else:\n",
        "                # Shape depends on your helper; using 3-channel as common case\n",
        "                final_filters[k] = np.empty((0, target_size[0], target_size[1], 3), dtype=np.uint8)\n",
        "        return X_no_filter, y_no_filter, final_filters\n",
        "    else:\n",
        "        return X_no_filter, y_no_filter\n"
      ],
      "metadata": {
        "id": "OJIv0mB1_DU4"
      },
      "execution_count": null,
      "outputs": []
    },
    {
      "cell_type": "code",
      "source": [
        "train_raw = \"/content/drive/MyDrive/data/files/chest_xray/chest_xray_train\"\n",
        "train_proc = \"/content/drive/MyDrive/data/files/processed_chest_xray/chest_xray_train\""
      ],
      "metadata": {
        "id": "UZrGApFFBgjc"
      },
      "execution_count": null,
      "outputs": []
    },
    {
      "cell_type": "code",
      "source": [
        "# os.listdir(processed_base+'/chest_xray_train/PNEUMONIA/')"
      ],
      "metadata": {
        "id": "PBEOwXdC-oGm"
      },
      "execution_count": null,
      "outputs": []
    },
    {
      "cell_type": "code",
      "source": [
        "img = cv2.imread(train_raw+'/PNEUMONIA/BACTERIA-4577721-0001.jpeg', cv2.IMREAD_GRAYSCALE)\n",
        "img = cv2.resize(img, (224,224))\n",
        "img = cv2.cvtColor(img, cv2.COLOR_GRAY2RGB)\n",
        "img"
      ],
      "metadata": {
        "colab": {
          "base_uri": "https://localhost:8080/",
          "height": 264
        },
        "id": "UdXwV5_L96qO",
        "outputId": "58a6da7a-3f6a-4ac6-fcc7-610b98a7c976"
      },
      "execution_count": null,
      "outputs": [
        {
          "output_type": "execute_result",
          "data": {
            "text/plain": [
              "array([[[ 59,  59,  59],\n",
              "        [ 59,  59,  59],\n",
              "        [ 66,  66,  66],\n",
              "        ...,\n",
              "        [201, 201, 201],\n",
              "        [215, 215, 215],\n",
              "        [226, 226, 226]],\n",
              "\n",
              "       [[ 60,  60,  60],\n",
              "        [ 67,  67,  67],\n",
              "        [ 75,  75,  75],\n",
              "        ...,\n",
              "        [200, 200, 200],\n",
              "        [220, 220, 220],\n",
              "        [225, 225, 225]],\n",
              "\n",
              "       [[ 68,  68,  68],\n",
              "        [ 66,  66,  66],\n",
              "        [ 81,  81,  81],\n",
              "        ...,\n",
              "        [201, 201, 201],\n",
              "        [216, 216, 216],\n",
              "        [226, 226, 226]],\n",
              "\n",
              "       ...,\n",
              "\n",
              "       [[  0,   0,   0],\n",
              "        [  0,   0,   0],\n",
              "        [  0,   0,   0],\n",
              "        ...,\n",
              "        [ 51,  51,  51],\n",
              "        [ 97,  97,  97],\n",
              "        [155, 155, 155]],\n",
              "\n",
              "       [[  0,   0,   0],\n",
              "        [  0,   0,   0],\n",
              "        [  0,   0,   0],\n",
              "        ...,\n",
              "        [ 51,  51,  51],\n",
              "        [100, 100, 100],\n",
              "        [152, 152, 152]],\n",
              "\n",
              "       [[  0,   0,   0],\n",
              "        [  0,   0,   0],\n",
              "        [  0,   0,   0],\n",
              "        ...,\n",
              "        [ 48,  48,  48],\n",
              "        [101, 101, 101],\n",
              "        [152, 152, 152]]], dtype=uint8)"
            ],
            "text/html": [
              "<style>\n",
              "      .ndarray_repr .ndarray_raw_data {\n",
              "        display: none;\n",
              "      }\n",
              "      .ndarray_repr.show_array .ndarray_raw_data {\n",
              "        display: block;\n",
              "      }\n",
              "      .ndarray_repr.show_array .ndarray_image_preview {\n",
              "        display: none;\n",
              "      }\n",
              "      </style>\n",
              "      <div id=\"id-16f2e26e-203b-44da-961b-4c5edc0eec1c\" class=\"ndarray_repr\"><pre>ndarray (224, 224, 3) <button style=\"padding: 0 2px;\">show data</button></pre><img src=\"data:image/png;base64,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\" class=\"ndarray_image_preview\" /><pre class=\"ndarray_raw_data\">array([[[ 59,  59,  59],\n",
              "        [ 59,  59,  59],\n",
              "        [ 66,  66,  66],\n",
              "        ...,\n",
              "        [201, 201, 201],\n",
              "        [215, 215, 215],\n",
              "        [226, 226, 226]],\n",
              "\n",
              "       [[ 60,  60,  60],\n",
              "        [ 67,  67,  67],\n",
              "        [ 75,  75,  75],\n",
              "        ...,\n",
              "        [200, 200, 200],\n",
              "        [220, 220, 220],\n",
              "        [225, 225, 225]],\n",
              "\n",
              "       [[ 68,  68,  68],\n",
              "        [ 66,  66,  66],\n",
              "        [ 81,  81,  81],\n",
              "        ...,\n",
              "        [201, 201, 201],\n",
              "        [216, 216, 216],\n",
              "        [226, 226, 226]],\n",
              "\n",
              "       ...,\n",
              "\n",
              "       [[  0,   0,   0],\n",
              "        [  0,   0,   0],\n",
              "        [  0,   0,   0],\n",
              "        ...,\n",
              "        [ 51,  51,  51],\n",
              "        [ 97,  97,  97],\n",
              "        [155, 155, 155]],\n",
              "\n",
              "       [[  0,   0,   0],\n",
              "        [  0,   0,   0],\n",
              "        [  0,   0,   0],\n",
              "        ...,\n",
              "        [ 51,  51,  51],\n",
              "        [100, 100, 100],\n",
              "        [152, 152, 152]],\n",
              "\n",
              "       [[  0,   0,   0],\n",
              "        [  0,   0,   0],\n",
              "        [  0,   0,   0],\n",
              "        ...,\n",
              "        [ 48,  48,  48],\n",
              "        [101, 101, 101],\n",
              "        [152, 152, 152]]], dtype=uint8)</pre></div><script>\n",
              "      (() => {\n",
              "      const titles = ['show data', 'hide data'];\n",
              "      let index = 0\n",
              "      document.querySelector('#id-16f2e26e-203b-44da-961b-4c5edc0eec1c button').onclick = (e) => {\n",
              "        document.querySelector('#id-16f2e26e-203b-44da-961b-4c5edc0eec1c').classList.toggle('show_array');\n",
              "        index = (++index) % 2;\n",
              "        document.querySelector('#id-16f2e26e-203b-44da-961b-4c5edc0eec1c button').textContent = titles[index];\n",
              "        e.preventDefault();\n",
              "        e.stopPropagation();\n",
              "      }\n",
              "      })();\n",
              "    </script>"
            ]
          },
          "metadata": {},
          "execution_count": 6
        }
      ]
    },
    {
      "cell_type": "code",
      "source": [
        "apply_canny(img)"
      ],
      "metadata": {
        "colab": {
          "base_uri": "https://localhost:8080/",
          "height": 264
        },
        "id": "8E8x5gdG_IYE",
        "outputId": "9b9e6bf2-bb87-4247-a201-64b4c8ddd708"
      },
      "execution_count": null,
      "outputs": [
        {
          "output_type": "execute_result",
          "data": {
            "text/plain": [
              "array([[[  0,   0,   0],\n",
              "        [  0,   0,   0],\n",
              "        [  0,   0,   0],\n",
              "        ...,\n",
              "        [  0,   0,   0],\n",
              "        [  0,   0,   0],\n",
              "        [  0,   0,   0]],\n",
              "\n",
              "       [[  0,   0,   0],\n",
              "        [  0,   0,   0],\n",
              "        [  0,   0,   0],\n",
              "        ...,\n",
              "        [  0,   0,   0],\n",
              "        [  0,   0,   0],\n",
              "        [  0,   0,   0]],\n",
              "\n",
              "       [[  0,   0,   0],\n",
              "        [  0,   0,   0],\n",
              "        [  0,   0,   0],\n",
              "        ...,\n",
              "        [  0,   0,   0],\n",
              "        [  0,   0,   0],\n",
              "        [  0,   0,   0]],\n",
              "\n",
              "       ...,\n",
              "\n",
              "       [[  0,   0,   0],\n",
              "        [  0,   0,   0],\n",
              "        [  0,   0,   0],\n",
              "        ...,\n",
              "        [  0,   0,   0],\n",
              "        [255, 255, 255],\n",
              "        [  0,   0,   0]],\n",
              "\n",
              "       [[  0,   0,   0],\n",
              "        [  0,   0,   0],\n",
              "        [  0,   0,   0],\n",
              "        ...,\n",
              "        [  0,   0,   0],\n",
              "        [255, 255, 255],\n",
              "        [  0,   0,   0]],\n",
              "\n",
              "       [[  0,   0,   0],\n",
              "        [  0,   0,   0],\n",
              "        [  0,   0,   0],\n",
              "        ...,\n",
              "        [  0,   0,   0],\n",
              "        [255, 255, 255],\n",
              "        [  0,   0,   0]]], dtype=uint8)"
            ],
            "text/html": [
              "<style>\n",
              "      .ndarray_repr .ndarray_raw_data {\n",
              "        display: none;\n",
              "      }\n",
              "      .ndarray_repr.show_array .ndarray_raw_data {\n",
              "        display: block;\n",
              "      }\n",
              "      .ndarray_repr.show_array .ndarray_image_preview {\n",
              "        display: none;\n",
              "      }\n",
              "      </style>\n",
              "      <div id=\"id-cf737f11-1020-4c6a-994e-50106f13a1b9\" class=\"ndarray_repr\"><pre>ndarray (224, 224, 3) <button style=\"padding: 0 2px;\">show data</button></pre><img src=\"data:image/png;base64,iVBORw0KGgoAAAANSUhEUgAAAOAAAADgCAIAAACVT/22AAAX8UlEQVR4nO1d2bLrKAwkU/P/v+x5cB1G0dKIXXboh1uJzSJEW5vJuSlpuK4r/0s/9OPS4GmZr6iiHrSBqlT9MIMDRZHo139nDArw+XycfWnLW1Oy793sHkG9+2hYSx44fjL0ljclqFb9FpSat7aJ/B3Vlusf8WWoUk7z4EyBwKFNkgRP9E/ncJ/P537Imh+1zmf07v4+dqaZS6O2k3kq9pV9WA9E0Kyg9XZe1cjtzWVg9FYXn+ZwNKuLhfjqXOzueqAYdCU1mV6sedUQ9pXUzMhM6l8miyzzgPQ6m2u7bssWNC208Dlg8Mz4YsPJMISaN+2yhukt1iZt9ek5673FKMSgC+yTdCJFHW33O09B9uCSlxS0EqKGoeFCfH8WP2SiNb2ejtqKR5WWZGMWoa5Ept91XWYMmhvNs1Lq4HjG36TmDU8wyqJMq00x/WUOyu+v6AYNqc/shEzG8SO75WmOBk/kA66kb7VbDZwXQZuezfpiedsQQ8Aedxahq7H8kHRh/6PZAaAc9bpa18yNaYOi8StugdStx6J7xtkDaUHpreHG8kEGuMqT4JaeAZPYCyxYcZDajv5xGtG291LLlKnD+fQUdlJIYjHlFLUkFVucsUfaYgMpsBpONMuAJKsdVxV0VBwj53oiQW9YJCvaMw8b1C5tuqqykdZc7GvXaab+Lb+0sIYWRO8FdEYk6iwPggzNiysCDSx9yvGrULVN8qia2ZLdw4evwDS1IrL2sm/WV569jWFPZ2cGU4hMcRqqQnLwHvFmKPlfK+2i2LK78qAnYyp67AyT/GhI25k52slOOv52TCL6/6P7W+L4vRhdee4+OvTMoNG5jNjYYtu8c6eWRilZSjLmRH2DHKnjMAp+wjxRmiewCQVrOf2GM1QIRCO6G6sJirMitTFoAGC9zeuMaHcBS9tJssiqWErQKj0O0RpLKQaOvAYyMQJtmsf/LeDosGGoIcWsxwWjTpl7FjVQJ2N1S0fbE4OquLTTspSjPZYvl1Q7x1mGopBqsWn4LB5MzbuXErSY3GBH1kYvWZyaW8gYBCq2JTCoIr8G41fVqSxP9l2V9zwxT1KdSapUS3GK2i5Tx6EDzt2X/sAR97XKnLWBZsyoVK10sruq2P7ljI3Ih+uQP5NjR08j7FPxoaRr6Dk2KpUb1qYmYValqM61X44T9X6RPDPWjjl9F4bk3T19A5rGHqhmFdjRogsaKNiooawxe/+yiH+mNd0v44j4c6FaKes0wufzKZb0I3sJiYkE7UHboS+mfVpaeiJw4QKryLKvY7OZIIO0zNqfKqV6Zw3SiyfCI78zZ5rxoI4iqET/sK6J0wi9NBNUdnwWX2uz8p4RQoHHoFOXMepFRWeze43ypExkFKNJ2jJpdHxWrGmZT/0s8JD5Ro3miZzkdIyRnjN4T4e6umhZkWUjvG/FBoYCo8yVRxi/j1sa6CyHtWS15RKJ/p+uKmipGLRZmoaOzQNaRGwe8LmQS/NcmSpM7Vx17ZtNzkAV1FrQBkK/CSojwddlYjh7tU/2iH11ypnbPGJRtVCf2MWb2Ox+u6aMSVPKtstXgt2yZyuxxWoOmY727fqdQJD08PrLXvOHfB38RiKFkT/D2tSGI7B7f5LFNqKhe+7bcmA52slffwmJbk80q2nJzwy8s+JGvzp/ojgKnexkQ7W/i49ATQa5E3S3suKiSZ4paAmWZf6I/+dEDkXH2bXSgfP2/uQjghF1Juzb5QQo/lxTrsK6otpg+QpjoPBM4P5BRoq33VH6syLZa3ue5J8XmEyaICayNKvvvJWOImj/INOGmyxAtIS9k535Ll7X3nS+ASMl3LvaKgvEjEoEI+qfsdjyNRwdL9uu1TbMW8wwVtJ0+ERAfuDxo4GJN+ZEffA1Jy1TljJ//rBmOcMnysl+tEimBwMIOvU3QP1jUmr6/9LBczeY0nS3LAMw7DdJxS3vGVnVddECqdRMjnrTCzYYLCHgS4rHoznc7BlwzS5OnQWEpGE5GlYwE1USOxOdOFrIkkwSyZM2hUJYwUzUEnT4mLMx256p44fSAMOXbBurgB5UVQr91ijUYpfFEmyiUEqgoIL9k2srGwXqx7wU7TVQ06awHM0I9Ads2yA1nmuZgLLx2czWNURglr9bZ0b3wpQn5sPkLCTJKzGXYyHLrIZbA8MwoLE40OWJJmWqZ6fnVkz4g+Z+sspnOJq63kDQaDrtgWchaptmJQRPmEyChpLyxtiNiYnOmkNV+cIac7tK6exfWXz+FCpSvmGxM4WUthmed4+gQfNPxGTCFBD8XXw0y6T+KHHeOY9oy7/hOTxQe44pLCPZY/ZVZgp1jEDagwZ25q/Wr2/fhAZTeq36uZIfrESo1EEjSGkRyMNO9eASG9Aah1qg7UpoQ/7lp8fuMi+/67mto1wE6yJl6EkU/I5vV+WlM09K4pSMU/6V6fxFIG9VyLCdoKrWgFTWgi11NIsxD0MIKv/1LGENQfH2ARn0V53bvTwLjJL9PwKqK//A/1WxTYyVkIsCryXpSqmWmrP7GcA7AsRTCLo3VZJhe4J/10C9G2FLapFlVpdMfbdTPzeKIWnx3MIQWIxqZNriCAzMS7+yz6qEnW7dmnoBPBEk893FYI4N7mTJ8IX7p64QYBdB2VdVd9bePJSa1qSSiOBDcpgVzHsgSTPyfjXLg47bLXaUqpqcf2mo6OmeCPwL6fyZ3sUa8FeglqFLkvU+zjO7fCiHByRbLGgiC5HeAJuitlnY4NbXnonAgE6/X/jZ8catsm6xoD7bzl2iDgRN1fOxa8raBDXjDHKKP6oepUzPRL1zLNt1f6yZGzQHnWynixZlC1QLSm95lNM2vvzaA4+Z9N9Smi7YLaks7B1oy6pZ6Ae2zdJW7QJbfvOjWMtRer1qIjxF1dTybuE3SctcJ7P2ReN/NWVFjKNVf25kNrJs1lkCuRfFlChBRRU39+pLp/DgxdrtPYLrR3NXZXF4NrIAfg1ulxmAyUb3VQqs5u/g7Esxc+9kIQZ+w9LWXYEccaxZtfy7OheIB9SRiw2cF2cAi8ccPRCs6KzxLOr+NgQV6tRVt1ibq+c/URi1i/IJBs+N5ZrB9uTDvPJu1kLnZvTAEk82K96Vq8i9aE3A6isvzrCsVXruOoM3kKDFYSmT6EVGMnld9pIN5HVsrkahOL6UxG97imOyxqqWinM1iOEctnp27EF6oOpLbYZbqiT2zG6R1T/IJDBeepbmacmeXjkduOIEYGctQdv/ssiMLcRn6nDSDXKmS0vyUumnPNZo60E9tdWGqoh6cyvNsizO7CVPHN/yicPHtGbptI7qV2tS6+JKWL5Ybel03Nb46pXm/e3077RlXZLEJlhgYJhhcNZlb82yF4bpOyMBRzG2Q4pEq0WSRgkeBK59qln3UVih5+GWRtV184zMRqpX6AhY8r3E9Vs+aTuBIcSWGPd1ot980sbVMagMU+YdybaWBA6Hs47ShAS0lxaAaaRtWANgfYujyTG3n8Kpc/Erkwa/Qq2ORR5HBk3g5K1sKZ2enY0GODdJOc0mbNj/8tEGK6JqYycNPZ2zp9g2tWFT86JA/l5UURydVBN0eODMikef1uPxVq9LHB5tGDwa6IponF1cl+eZVEO4LnE7sNmCWqgiEDacuHoaH4AftLiRvutxeMBim7GYlKJUCzGkV0PO6O8iG/uT5Y2wShlV19lQzmZAgCpRnd1ll6AW1InaYKD4JiYgqFGk9MIeg/p9FdiOMrPd6eV7zOdOgl7iDeSlFaJB99S3+CxAWHYmcbCo6DFYEcNq/Ii1p2j/y4efbf3spOMMGapTDA+fqqoTSXv/xF6kfeL9EJlhG0HplqgOpeiOm0ukbC4mz3oUK2uqYylKSzkNBg/O0WEELbLKM4Kn2aQi1N7t8czONKw+Zuk7XpTuHnC0Q/yJ2GNBgfmUbdjFVF+Euj+wraW8DGs/KKSQVn2XRfa0PeZoQCVEyeKZTlU7UcvO7LlY9MZGGFUZaYbTgIGFy1Ko2kstCNDPIHPfZWV3JkmW+aTxO22cfOz02Aw5rxx/mTnxmC4gHvPjrHH+LC8yBA9GB6CqPJS0R9lqXKyt5MaS03QECo+ooVBUFFs7vSL7WqoAynFuQbGNB1M2qJagzl5t7GQjWztUHDYUAAUTWRHlZRWt8cVaCXuQx9kcgzodCm6TFSp9XF6n+kagWewgYHEnq3HKBmAEefGFaHjIGp5vZxvLeflnjwm8WMvyYU1aYxbbOIdqwDYX71821amTglYb4P0fx1FLYGtFTnfv8ekN+9uMKS5+eCXCquflr0XXn/7SW+rsqH9/rTv7gyd/T/uqSEUEOizCbtGvTLlFdsqwLE/HaqKge8wNU0FFBVTDHPWP82B4fG6xMQ4re8JWp5Oy4rkIAMpRP6tdsIbp54ZIdIjeZil/FEGbZ2fj1+rXI14EXN9gt6z2tEGR6GqzQ9DG8qTHrnjES2KHHgGLrAkSzunBeh7yZuRBlr7qvErVx2IDq1cyTiqNmiI4rJMM9MpHOxJqqS6OinYmSerb9lpkFasPulqpBkb6QVbTA0lW9esao9iGkQStNU5F9XlGoL0y86RhoOfQrESecbpKklDI7v4jzoZKFHUu92ilcqLUQdvizvTtsNTzO1Ux5ZbTTGPxIUjiTJPVK+wDuf9dfHKoz+ooK/lyb2TIVRz5Mg6kPhTF0i9wGg0pY9wCanMoU7UekK56gks8lwxVg+q6CSyFl1E74Cj716/GZlHvD/tP1NeyM2kmgV53PicXQb5FDafnndODcJGf2SRNV07tpccGP41VXD9B/dm3NYtKStz9ERbUY+ylc5CfE1yvXy0DLehITCWo1KPqteXF6xtAJDnOI9iZjMWCZgny0mMFfoWgVe44kQ2whnVuFe5Opyv2jQBVIYCOVht5vZbEnrtOjFf+DIImh64ZmZykVMUAdiU4LP4VzaH6NKoc3WJBgx63S0YF6vp+a0fxqfxD16wv+9w2zl6oOlGvp+/qm3UX8GxZLWkpQTEjGdQ3xZY2KTXb3uazKCI1WeKNUN+/J0I1zDZwseqN9HCNbfhd/PX3Cs7DJE+bKt4nw9KogzyIoImsgq2FctRSFIgE9rqRdQQtOnS1tOkZ1i/A/QEbDFWYB8ES/lP6uwzyerGLBb8BKmJ/oV6FMwS8fOX0rOWX1d4lml9pegYcSDs/NhBUXedHnLvxnGzAysqR5et5yVAMN2WxoqhJ59TD9RzUghaDAeaRZZsfMZkSxfVmnThpt1eBiwjqdw21SaIVvDar9YkpvERReE/mRBur9b4RkhYQyIKqdSWKixx3sKymPyrFkjza9Dolr10jVdqyOmigv1EP2ClVk5lq1dWZ+pxJumqPn8tUJzw+ZxkjGTZY0KpKRyLqA3WQpLETG0KPup9LTZVPMjeiDidmSBPFglopfNHpJ4Oa9MpzeTYW1O3IYn5byVNirMJDxKCUVfRpptcpgy23fuPQMUM1ip/vX2vR2N3q0jxXLAAR2S38NRkvx2UDayjmyFRhrOuei0+BVA5VrNWlbR+Le1qL8Zr3iysjodqJWEgAbjE6YiGHa3kvGnQLeuGHf6zqcvcVLr4YlKiFTDmI6vfVcJOquCoepbHv2FhqC2rlB6uWqk52KmbdasC200z5s7yr9mJxJ1i8WmxSlf4hx3/AIE9H1ZPWX4qPqzrLmVYFLj3hUcPdNif4LPgXiEMvdeOsXa6aF0iy+US9/OqvKCXySOC+4Naj3xiNxSUKT0krnuTPbPsmVfInEtQjMSNHFTvpFEWeeYzri01pcWlqA1zOy22m6m1kDOp/BSwvYgJ5iAtMbFG2dxtR632bbGb1nShcCROTpEws+d4iCZeR6ol7w/Pu3iNqsc0L0Pwcri9oZM7sf5PkKVh4xpF093fEb+3fgeLqcP1kMfIjsYegajwu21i31MbUm+deTvP5egta9NS0fozDrZ5ZQkCtOzgrTbSvZ6ksi6+V8xfSowy/PtWLTMlgc2snndG3elyLoJ21Sak13BGQ8vUcdRLUCrQSYaocrWp//dJe1zXRxbcJ5/fsrCXueKueBZqvJ2Utio5+cba0P0lSq0KecF6yjXWU+nXWXH8cNGVkOmxOs5ox14K2AQTa1LkwLsonOxf/pDFgU/yIHZWKLS68Numh702GaHWPBb2M8xn5ijPlpL0k57KJtexB+m0j6s8OrXcfaxDiuF0y7KLakgadtJcajNJBqE2ljX+QpkxF2GVR5C5WZbCqwAeQDcp4gjaYd8lOafPUMWkYSr251E6+fpKkG/mplk8ya8YY7M9fe3DtLdRnIfJnkH0n7YlXwyn6Qkiq9bh4Cql8K0J94SONg3H5FS9btaP+KTLFZd/apOEFoGvHG6EqB6tOVXunnFMsaEP2p17P8WJerYyBivz+/B07+GV7KSG1gX29c0zV7vZg//80h527mgAxVJGPBfK/YDX9oBzdWzaemCQlu5BUC+spx8piswNfIx+Pn+IrLWvQi6lDD8Of+bkn6pv7gkKG+pVqmZJYJu80hVJLUc0yPwtqWeMG8Gke/Yzl6PQYFDtxq2IvDZvqd5LDpsokVKVmZ1D/RIC8J07ws+cvLLMrIHlM4llXs6IGbcpI9BcSKbrY9Pes5oeceXyQgMZhcCOseoRskDRPnf9lzeh1BnUuOQK7BfbgrcBbA4IoZ0v6tUe3d98of90ugz7Nidg59tWZ3GBrTQd/ve30QA3MLq2650Su8TWLFOI0k6Rjvn5/UO/WJjfUjzNv/lPstLyzepFFAkXHOBwhfpOEG1yOMrv01Gps8FNExFDVpVpKqzj67DAUxy74CS7G6Wrc6e/+47DCen+v/BVsgdWxVs7pFlR9zljpRy7MemqZm5YxkzS3/gf9+kbdOp8JK6anaHDrA43rLIJWichqmYCdoA7awyoaAxQLq2/C9VeKLqquuBGTMIugzjWo7jtp7GRtbrB6e20hk40jK6O/AKlG9W7+6hx2lA73l5ksd6xSDZhVf0UDT/FrYC7Icl+J7I5Tb6HVC8JkFtNYRtQaE49WHAq4szy+M294KCwFJvhew9kdN2iQc38M6n/OcCCv3qW1qmwhrHFqLcQLcH0fh8jmM+uhgV5jtTfLxVuMKXph+fxZ1ftagFhKpebr+Sp1S118fya0MpeqhuUpqEeW3pZewb5bti/KQwGkZRff5+hliIVdOVZX0aF3uvhZFrSYssjMUU2ArFtsHNYeN3Pejfv0D4Xqx6nr36uH1S6eIfNY9bBsHBA2sF5jEdpV9QGbNxCDYp0M1Nj0N0lqoKO2lEsCTpbm2h+CMUKTWWYMuwsy8s6rA5tSzArUXmDMKqw+LKK+CgJxzK1BZl/z19nseQ01KaTCi3ySt5a9y1haqFcfPko++VltnF5KnRmw4stEtC2v0GYf7cxDhrURo7z8hjdJMn+iGqFJZW4DXm8cMKjWjt2iGpY5wPVdHM1dtmh+86tO5s3VgFVWkg8AipUT9pmaSRpzW75uMQK9i1ef0SDFjteDGQJpYmUXXEl8TBYPIEN1q0p/2DkKVl2ClZNpdi8jBM8sQ+RMuwjK/EsSFfsTdG4By4qKVWc8Tv7cwNfcay5BgQsAVffDztmoYgx+Pwfc4BCE+FVnIgHNYedsyGqJhMzrWVS6RtQUh6AUh51TQZN0TDW6EYvfqG2OQVUc2zkbavnZgowjVTZPMqiLYlAL4AhCOuxciCqO0s9FUo5i7bb/hkZ9V5EOO2OjGIkOf+G0lKBA9MPO+PCErcMRLgY9iIz1ezTxT4AXm2U3seUl70EzHl9mAkG0ehwkHfP5HMi3gLhZJ0L8b8dbgptfw8D05Q1ZvFMX9MXmMaIvwAtfdeJ3bgdhgUtOj3TxzEyyN2krJflBjNXwsv3aZkFPbvR0rDk1so6g1u+tTvT5AljvBfux51Un/XzY+WjMTiEm/iYJ/5Zl3rwHKzHbvsz9vzrxkdh0YtCHAxSwH5nFH/wCxv4OZNtxu/XzHizGkEDuWNCD0FhN0JMevQ/4Lzh0Ytt/x32YeuDBrPOgxQYnDH0T5u3mIgt6GHnQhs1/+ubgAGPWiXr1+rGjB7UYT1D6h+nU0yEHP4Ih233qoAehsYig54DIQRuOBT0IjfEEPcbyYCAHjgU9iIhtf37x/IbzwIMNf34R/+XzgwMV+/8rxIMDgBODHoTGIehBaByCHoTGf/uXjjejT3iKAAAAAElFTkSuQmCC\" class=\"ndarray_image_preview\" /><pre class=\"ndarray_raw_data\">array([[[  0,   0,   0],\n",
              "        [  0,   0,   0],\n",
              "        [  0,   0,   0],\n",
              "        ...,\n",
              "        [  0,   0,   0],\n",
              "        [  0,   0,   0],\n",
              "        [  0,   0,   0]],\n",
              "\n",
              "       [[  0,   0,   0],\n",
              "        [  0,   0,   0],\n",
              "        [  0,   0,   0],\n",
              "        ...,\n",
              "        [  0,   0,   0],\n",
              "        [  0,   0,   0],\n",
              "        [  0,   0,   0]],\n",
              "\n",
              "       [[  0,   0,   0],\n",
              "        [  0,   0,   0],\n",
              "        [  0,   0,   0],\n",
              "        ...,\n",
              "        [  0,   0,   0],\n",
              "        [  0,   0,   0],\n",
              "        [  0,   0,   0]],\n",
              "\n",
              "       ...,\n",
              "\n",
              "       [[  0,   0,   0],\n",
              "        [  0,   0,   0],\n",
              "        [  0,   0,   0],\n",
              "        ...,\n",
              "        [  0,   0,   0],\n",
              "        [255, 255, 255],\n",
              "        [  0,   0,   0]],\n",
              "\n",
              "       [[  0,   0,   0],\n",
              "        [  0,   0,   0],\n",
              "        [  0,   0,   0],\n",
              "        ...,\n",
              "        [  0,   0,   0],\n",
              "        [255, 255, 255],\n",
              "        [  0,   0,   0]],\n",
              "\n",
              "       [[  0,   0,   0],\n",
              "        [  0,   0,   0],\n",
              "        [  0,   0,   0],\n",
              "        ...,\n",
              "        [  0,   0,   0],\n",
              "        [255, 255, 255],\n",
              "        [  0,   0,   0]]], dtype=uint8)</pre></div><script>\n",
              "      (() => {\n",
              "      const titles = ['show data', 'hide data'];\n",
              "      let index = 0\n",
              "      document.querySelector('#id-cf737f11-1020-4c6a-994e-50106f13a1b9 button').onclick = (e) => {\n",
              "        document.querySelector('#id-cf737f11-1020-4c6a-994e-50106f13a1b9').classList.toggle('show_array');\n",
              "        index = (++index) % 2;\n",
              "        document.querySelector('#id-cf737f11-1020-4c6a-994e-50106f13a1b9 button').textContent = titles[index];\n",
              "        e.preventDefault();\n",
              "        e.stopPropagation();\n",
              "      }\n",
              "      })();\n",
              "    </script>"
            ]
          },
          "metadata": {},
          "execution_count": 16
        }
      ]
    },
    {
      "cell_type": "code",
      "source": [
        "apply_laplacian(img)"
      ],
      "metadata": {
        "colab": {
          "base_uri": "https://localhost:8080/",
          "height": 264
        },
        "id": "KEkDodq4_fO0",
        "outputId": "0fbd8610-86cd-4074-fa61-191796f7b8c1"
      },
      "execution_count": null,
      "outputs": [
        {
          "output_type": "execute_result",
          "data": {
            "text/plain": [
              "array([[[ 2,  2,  2],\n",
              "        [23, 23, 23],\n",
              "        [17, 17, 17],\n",
              "        ...,\n",
              "        [ 0,  0,  0],\n",
              "        [ 7,  7,  7],\n",
              "        [ 0,  0,  0]],\n",
              "\n",
              "       [[21, 21, 21],\n",
              "        [ 0,  0,  0],\n",
              "        [ 0,  0,  0],\n",
              "        ...,\n",
              "        [ 7,  7,  7],\n",
              "        [ 0,  0,  0],\n",
              "        [ 0,  0,  0]],\n",
              "\n",
              "       [[ 6,  6,  6],\n",
              "        [30, 30, 30],\n",
              "        [ 0,  0,  0],\n",
              "        ...,\n",
              "        [ 0,  0,  0],\n",
              "        [ 0,  0,  0],\n",
              "        [ 0,  0,  0]],\n",
              "\n",
              "       ...,\n",
              "\n",
              "       [[ 0,  0,  0],\n",
              "        [ 0,  0,  0],\n",
              "        [ 0,  0,  0],\n",
              "        ...,\n",
              "        [ 4,  4,  4],\n",
              "        [16, 16, 16],\n",
              "        [ 0,  0,  0]],\n",
              "\n",
              "       [[ 0,  0,  0],\n",
              "        [ 0,  0,  0],\n",
              "        [ 0,  0,  0],\n",
              "        ...,\n",
              "        [ 7,  7,  7],\n",
              "        [ 1,  1,  1],\n",
              "        [ 0,  0,  0]],\n",
              "\n",
              "       [[ 0,  0,  0],\n",
              "        [ 0,  0,  0],\n",
              "        [ 0,  0,  0],\n",
              "        ...,\n",
              "        [22, 22, 22],\n",
              "        [ 0,  0,  0],\n",
              "        [ 0,  0,  0]]], dtype=uint8)"
            ],
            "text/html": [
              "<style>\n",
              "      .ndarray_repr .ndarray_raw_data {\n",
              "        display: none;\n",
              "      }\n",
              "      .ndarray_repr.show_array .ndarray_raw_data {\n",
              "        display: block;\n",
              "      }\n",
              "      .ndarray_repr.show_array .ndarray_image_preview {\n",
              "        display: none;\n",
              "      }\n",
              "      </style>\n",
              "      <div id=\"id-32ad5eb2-02dc-43a1-b422-053bf0339477\" class=\"ndarray_repr\"><pre>ndarray (224, 224, 3) <button style=\"padding: 0 2px;\">show data</button></pre><img src=\"data:image/png;base64,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\" class=\"ndarray_image_preview\" /><pre class=\"ndarray_raw_data\">array([[[ 2,  2,  2],\n",
              "        [23, 23, 23],\n",
              "        [17, 17, 17],\n",
              "        ...,\n",
              "        [ 0,  0,  0],\n",
              "        [ 7,  7,  7],\n",
              "        [ 0,  0,  0]],\n",
              "\n",
              "       [[21, 21, 21],\n",
              "        [ 0,  0,  0],\n",
              "        [ 0,  0,  0],\n",
              "        ...,\n",
              "        [ 7,  7,  7],\n",
              "        [ 0,  0,  0],\n",
              "        [ 0,  0,  0]],\n",
              "\n",
              "       [[ 6,  6,  6],\n",
              "        [30, 30, 30],\n",
              "        [ 0,  0,  0],\n",
              "        ...,\n",
              "        [ 0,  0,  0],\n",
              "        [ 0,  0,  0],\n",
              "        [ 0,  0,  0]],\n",
              "\n",
              "       ...,\n",
              "\n",
              "       [[ 0,  0,  0],\n",
              "        [ 0,  0,  0],\n",
              "        [ 0,  0,  0],\n",
              "        ...,\n",
              "        [ 4,  4,  4],\n",
              "        [16, 16, 16],\n",
              "        [ 0,  0,  0]],\n",
              "\n",
              "       [[ 0,  0,  0],\n",
              "        [ 0,  0,  0],\n",
              "        [ 0,  0,  0],\n",
              "        ...,\n",
              "        [ 7,  7,  7],\n",
              "        [ 1,  1,  1],\n",
              "        [ 0,  0,  0]],\n",
              "\n",
              "       [[ 0,  0,  0],\n",
              "        [ 0,  0,  0],\n",
              "        [ 0,  0,  0],\n",
              "        ...,\n",
              "        [22, 22, 22],\n",
              "        [ 0,  0,  0],\n",
              "        [ 0,  0,  0]]], dtype=uint8)</pre></div><script>\n",
              "      (() => {\n",
              "      const titles = ['show data', 'hide data'];\n",
              "      let index = 0\n",
              "      document.querySelector('#id-32ad5eb2-02dc-43a1-b422-053bf0339477 button').onclick = (e) => {\n",
              "        document.querySelector('#id-32ad5eb2-02dc-43a1-b422-053bf0339477').classList.toggle('show_array');\n",
              "        index = (++index) % 2;\n",
              "        document.querySelector('#id-32ad5eb2-02dc-43a1-b422-053bf0339477 button').textContent = titles[index];\n",
              "        e.preventDefault();\n",
              "        e.stopPropagation();\n",
              "      }\n",
              "      })();\n",
              "    </script>"
            ]
          },
          "metadata": {},
          "execution_count": 17
        }
      ]
    },
    {
      "cell_type": "code",
      "source": [
        "apply_clahe(img)"
      ],
      "metadata": {
        "colab": {
          "base_uri": "https://localhost:8080/",
          "height": 264
        },
        "id": "sRHVkwjp_n8U",
        "outputId": "20b37f68-0451-44a8-9551-32521cda2f25"
      },
      "execution_count": null,
      "outputs": [
        {
          "output_type": "execute_result",
          "data": {
            "text/plain": [
              "array([[[ 23,  23,  23],\n",
              "        [ 23,  23,  23],\n",
              "        [ 26,  26,  26],\n",
              "        ...,\n",
              "        [210, 210, 210],\n",
              "        [223, 223, 223],\n",
              "        [238, 238, 238]],\n",
              "\n",
              "       [[ 23,  23,  23],\n",
              "        [ 27,  27,  27],\n",
              "        [ 33,  33,  33],\n",
              "        ...,\n",
              "        [209, 209, 209],\n",
              "        [230, 230, 230],\n",
              "        [236, 236, 236]],\n",
              "\n",
              "       [[ 28,  28,  28],\n",
              "        [ 26,  26,  26],\n",
              "        [ 40,  40,  40],\n",
              "        ...,\n",
              "        [210, 210, 210],\n",
              "        [224, 224, 224],\n",
              "        [238, 238, 238]],\n",
              "\n",
              "       ...,\n",
              "\n",
              "       [[  3,   3,   3],\n",
              "        [  3,   3,   3],\n",
              "        [  3,   3,   3],\n",
              "        ...,\n",
              "        [ 68,  68,  68],\n",
              "        [117, 117, 117],\n",
              "        [180, 180, 180]],\n",
              "\n",
              "       [[  3,   3,   3],\n",
              "        [  3,   3,   3],\n",
              "        [  3,   3,   3],\n",
              "        ...,\n",
              "        [ 68,  68,  68],\n",
              "        [121, 121, 121],\n",
              "        [174, 174, 174]],\n",
              "\n",
              "       [[  3,   3,   3],\n",
              "        [  3,   3,   3],\n",
              "        [  3,   3,   3],\n",
              "        ...,\n",
              "        [ 61,  61,  61],\n",
              "        [123, 123, 123],\n",
              "        [174, 174, 174]]], dtype=uint8)"
            ],
            "text/html": [
              "<style>\n",
              "      .ndarray_repr .ndarray_raw_data {\n",
              "        display: none;\n",
              "      }\n",
              "      .ndarray_repr.show_array .ndarray_raw_data {\n",
              "        display: block;\n",
              "      }\n",
              "      .ndarray_repr.show_array .ndarray_image_preview {\n",
              "        display: none;\n",
              "      }\n",
              "      </style>\n",
              "      <div id=\"id-3041f73c-b4aa-4cf0-a220-daf329735b41\" class=\"ndarray_repr\"><pre>ndarray (224, 224, 3) <button style=\"padding: 0 2px;\">show data</button></pre><img src=\"data:image/png;base64,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\" class=\"ndarray_image_preview\" /><pre class=\"ndarray_raw_data\">array([[[ 23,  23,  23],\n",
              "        [ 23,  23,  23],\n",
              "        [ 26,  26,  26],\n",
              "        ...,\n",
              "        [210, 210, 210],\n",
              "        [223, 223, 223],\n",
              "        [238, 238, 238]],\n",
              "\n",
              "       [[ 23,  23,  23],\n",
              "        [ 27,  27,  27],\n",
              "        [ 33,  33,  33],\n",
              "        ...,\n",
              "        [209, 209, 209],\n",
              "        [230, 230, 230],\n",
              "        [236, 236, 236]],\n",
              "\n",
              "       [[ 28,  28,  28],\n",
              "        [ 26,  26,  26],\n",
              "        [ 40,  40,  40],\n",
              "        ...,\n",
              "        [210, 210, 210],\n",
              "        [224, 224, 224],\n",
              "        [238, 238, 238]],\n",
              "\n",
              "       ...,\n",
              "\n",
              "       [[  3,   3,   3],\n",
              "        [  3,   3,   3],\n",
              "        [  3,   3,   3],\n",
              "        ...,\n",
              "        [ 68,  68,  68],\n",
              "        [117, 117, 117],\n",
              "        [180, 180, 180]],\n",
              "\n",
              "       [[  3,   3,   3],\n",
              "        [  3,   3,   3],\n",
              "        [  3,   3,   3],\n",
              "        ...,\n",
              "        [ 68,  68,  68],\n",
              "        [121, 121, 121],\n",
              "        [174, 174, 174]],\n",
              "\n",
              "       [[  3,   3,   3],\n",
              "        [  3,   3,   3],\n",
              "        [  3,   3,   3],\n",
              "        ...,\n",
              "        [ 61,  61,  61],\n",
              "        [123, 123, 123],\n",
              "        [174, 174, 174]]], dtype=uint8)</pre></div><script>\n",
              "      (() => {\n",
              "      const titles = ['show data', 'hide data'];\n",
              "      let index = 0\n",
              "      document.querySelector('#id-3041f73c-b4aa-4cf0-a220-daf329735b41 button').onclick = (e) => {\n",
              "        document.querySelector('#id-3041f73c-b4aa-4cf0-a220-daf329735b41').classList.toggle('show_array');\n",
              "        index = (++index) % 2;\n",
              "        document.querySelector('#id-3041f73c-b4aa-4cf0-a220-daf329735b41 button').textContent = titles[index];\n",
              "        e.preventDefault();\n",
              "        e.stopPropagation();\n",
              "      }\n",
              "      })();\n",
              "    </script>"
            ]
          },
          "metadata": {},
          "execution_count": 18
        }
      ]
    },
    {
      "cell_type": "code",
      "source": [],
      "metadata": {
        "id": "2QOKMktf421z"
      },
      "execution_count": null,
      "outputs": []
    },
    {
      "cell_type": "code",
      "source": [
        "X_train, y_train, filters_train = process_and_dataframe(train_raw, train_proc, apply_filters=True)"
      ],
      "metadata": {
        "colab": {
          "base_uri": "https://localhost:8080/"
        },
        "id": "B-T1aaQ8B76a",
        "outputId": "5b618599-5881-40ff-f3ae-ccf7c5ccd727"
      },
      "execution_count": null,
      "outputs": [
        {
          "output_type": "stream",
          "name": "stderr",
          "text": [
            "2025-08-25 05:12:43 - [INFO] - Processing /content/drive/MyDrive/data/files/chest_xray/chest_xray_train/PNEUMONIA...\n",
            "INFO:Data-Handler:Processing /content/drive/MyDrive/data/files/chest_xray/chest_xray_train/PNEUMONIA...\n",
            "Processing PNEUMONIA:  13%|█▎        | 497/3882 [02:10<01:37, 34.75img/s]2025-08-25 05:14:54 - [INFO] - Chunk commit: pushing 500 images to permanent storage and clearing buffers...\n",
            "INFO:Data-Handler:Chunk commit: pushing 500 images to permanent storage and clearing buffers...\n",
            "Processing PNEUMONIA:  26%|██▌       | 998/3882 [02:24<01:16, 37.92img/s]2025-08-25 05:15:08 - [INFO] - Chunk commit: pushing 500 images to permanent storage and clearing buffers...\n",
            "INFO:Data-Handler:Chunk commit: pushing 500 images to permanent storage and clearing buffers...\n",
            "Processing PNEUMONIA:  39%|███▊      | 1496/3882 [02:37<00:58, 41.07img/s]2025-08-25 05:15:21 - [INFO] - Chunk commit: pushing 500 images to permanent storage and clearing buffers...\n",
            "INFO:Data-Handler:Chunk commit: pushing 500 images to permanent storage and clearing buffers...\n",
            "Processing PNEUMONIA:  51%|█████▏    | 1999/3882 [02:51<00:49, 38.15img/s]2025-08-25 05:15:35 - [INFO] - Chunk commit: pushing 500 images to permanent storage and clearing buffers...\n",
            "INFO:Data-Handler:Chunk commit: pushing 500 images to permanent storage and clearing buffers...\n",
            "Processing PNEUMONIA:  64%|██████▍   | 2499/3882 [06:45<09:48,  2.35img/s]2025-08-25 05:19:30 - [INFO] - Chunk commit: pushing 500 images to permanent storage and clearing buffers...\n",
            "INFO:Data-Handler:Chunk commit: pushing 500 images to permanent storage and clearing buffers...\n",
            "Processing PNEUMONIA:  77%|███████▋  | 2997/3882 [07:00<00:23, 38.14img/s]2025-08-25 05:19:44 - [INFO] - Chunk commit: pushing 500 images to permanent storage and clearing buffers...\n",
            "INFO:Data-Handler:Chunk commit: pushing 500 images to permanent storage and clearing buffers...\n",
            "Processing PNEUMONIA:  90%|█████████ | 3499/3882 [10:48<02:43,  2.34img/s]2025-08-25 05:23:33 - [INFO] - Chunk commit: pushing 500 images to permanent storage and clearing buffers...\n",
            "INFO:Data-Handler:Chunk commit: pushing 500 images to permanent storage and clearing buffers...\n",
            "Processing PNEUMONIA: 100%|██████████| 3882/3882 [13:48<00:00,  4.69img/s]\n",
            "2025-08-25 05:26:32 - [INFO] - Completed /content/drive/MyDrive/data/files/chest_xray/chest_xray_train/PNEUMONIA!\n",
            "INFO:Data-Handler:Completed /content/drive/MyDrive/data/files/chest_xray/chest_xray_train/PNEUMONIA!\n",
            "2025-08-25 05:26:32 - [INFO] - Processing /content/drive/MyDrive/data/files/chest_xray/chest_xray_train/NORMAL...\n",
            "INFO:Data-Handler:Processing /content/drive/MyDrive/data/files/chest_xray/chest_xray_train/NORMAL...\n",
            "Processing NORMAL:   9%|▊         | 115/1349 [00:50<00:44, 27.61img/s]2025-08-25 05:27:23 - [INFO] - Chunk commit: pushing 500 images to permanent storage and clearing buffers...\n",
            "INFO:Data-Handler:Chunk commit: pushing 500 images to permanent storage and clearing buffers...\n",
            "Processing NORMAL:  46%|████▌     | 616/1349 [01:12<00:36, 20.04img/s]2025-08-25 05:27:45 - [INFO] - Chunk commit: pushing 500 images to permanent storage and clearing buffers...\n",
            "INFO:Data-Handler:Chunk commit: pushing 500 images to permanent storage and clearing buffers...\n",
            "Processing NORMAL:  83%|████████▎ | 1116/1349 [01:35<00:09, 23.79img/s]2025-08-25 05:28:07 - [INFO] - Chunk commit: pushing 500 images to permanent storage and clearing buffers...\n",
            "INFO:Data-Handler:Chunk commit: pushing 500 images to permanent storage and clearing buffers...\n",
            "Processing NORMAL: 100%|██████████| 1349/1349 [01:44<00:00, 12.91img/s]\n",
            "2025-08-25 05:28:16 - [INFO] - Completed /content/drive/MyDrive/data/files/chest_xray/chest_xray_train/NORMAL!\n",
            "INFO:Data-Handler:Completed /content/drive/MyDrive/data/files/chest_xray/chest_xray_train/NORMAL!\n",
            "2025-08-25 05:28:16 - [INFO] - Final commit: pushing leftover 231 images to permanent storage...\n",
            "INFO:Data-Handler:Final commit: pushing leftover 231 images to permanent storage...\n"
          ]
        }
      ]
    },
    {
      "cell_type": "code",
      "source": [
        "# save filtered image dataset\n",
        "# np.savez_compressed(\"/content/drive/MyDrive/data/files/processed_chest_xray/filters_train.npz\", **filters_train)"
      ],
      "metadata": {
        "id": "5VGEtasltO5_"
      },
      "execution_count": null,
      "outputs": []
    },
    {
      "cell_type": "code",
      "source": [
        "loaded = np.load(\"/content/drive/MyDrive/data/files/processed_chest_xray/filters_train.npz\", allow_pickle=True)\n",
        "filters_train = {k: loaded[k] for k in loaded.files}\n"
      ],
      "metadata": {
        "id": "Laer4V9OtujY"
      },
      "execution_count": null,
      "outputs": []
    },
    {
      "cell_type": "code",
      "source": [
        "# # save ytrain\n",
        "# np.save(\"/content/drive/MyDrive/data/files/processed_chest_xray/y_train.npy\", y_train)\n",
        "\n",
        "# # load\n",
        "y_train = np.load(\"/content/drive/MyDrive/data/files/processed_chest_xray/y_train.npy\")"
      ],
      "metadata": {
        "id": "vkFcxABet-Jl"
      },
      "execution_count": null,
      "outputs": []
    },
    {
      "cell_type": "code",
      "source": [
        "test_raw = \"/content/drive/MyDrive/data/files/chest_xray/chest_xray_test\"\n",
        "test_proc = \"/content/drive/MyDrive/data/files/processed_chest_xray/chest_xray_test\"\n",
        "\n",
        "X_test, y_test, filters_test = process_and_dataframe(test_raw, test_proc, apply_filters=True)"
      ],
      "metadata": {
        "id": "ZaYsZf3uB4US",
        "colab": {
          "base_uri": "https://localhost:8080/"
        },
        "outputId": "690b76e3-8c7a-4e9b-824f-b78d2a27f35f"
      },
      "execution_count": null,
      "outputs": [
        {
          "output_type": "stream",
          "name": "stderr",
          "text": [
            "2025-08-27 05:21:59 - [INFO] - Processing /content/drive/MyDrive/data/files/chest_xray/chest_xray_test/PNEUMONIA...\n",
            "INFO:Data-Handler:Processing /content/drive/MyDrive/data/files/chest_xray/chest_xray_test/PNEUMONIA...\n",
            "Processing PNEUMONIA: 100%|██████████| 390/390 [02:44<00:00,  2.37img/s]\n",
            "2025-08-27 05:24:46 - [INFO] - Completed /content/drive/MyDrive/data/files/chest_xray/chest_xray_test/PNEUMONIA!\n",
            "INFO:Data-Handler:Completed /content/drive/MyDrive/data/files/chest_xray/chest_xray_test/PNEUMONIA!\n",
            "2025-08-27 05:24:46 - [INFO] - Processing /content/drive/MyDrive/data/files/chest_xray/chest_xray_test/NORMAL...\n",
            "INFO:Data-Handler:Processing /content/drive/MyDrive/data/files/chest_xray/chest_xray_test/NORMAL...\n",
            "Processing NORMAL:  47%|████▋     | 109/234 [00:50<00:43,  2.87img/s]2025-08-27 05:25:37 - [INFO] - Chunk commit: pushing 500 images to permanent storage and clearing buffers...\n",
            "INFO:Data-Handler:Chunk commit: pushing 500 images to permanent storage and clearing buffers...\n",
            "Processing NORMAL: 100%|██████████| 234/234 [01:40<00:00,  2.32img/s]\n",
            "2025-08-27 05:26:27 - [INFO] - Completed /content/drive/MyDrive/data/files/chest_xray/chest_xray_test/NORMAL!\n",
            "INFO:Data-Handler:Completed /content/drive/MyDrive/data/files/chest_xray/chest_xray_test/NORMAL!\n",
            "2025-08-27 05:26:27 - [INFO] - Final commit: pushing leftover 124 images to permanent storage...\n",
            "INFO:Data-Handler:Final commit: pushing leftover 124 images to permanent storage...\n"
          ]
        }
      ]
    },
    {
      "cell_type": "code",
      "source": [],
      "metadata": {
        "id": "LKnZizpQydiv"
      },
      "execution_count": null,
      "outputs": []
    },
    {
      "cell_type": "code",
      "source": [
        "processed_dir = '/content/drive/MyDrive/data/files/processed_chest_xray/chest_xray_train'\n",
        "X_train=[]\n",
        "for cls in ['PNEUMONIA', 'NORMAL']:\n",
        "    cls_proc = os.path.join(processed_dir, cls)\n",
        "    for im in tqdm(os.listdir(cls_proc), f'Working on {cls}:'):\n",
        "        X_train.append(cv2.imread(os.path.join(cls_proc, im)))\n",
        "\n",
        "\n",
        "X_train = np.array(X_train, dtype=np.uint8)"
      ],
      "metadata": {
        "id": "ehu1BRUdyGEQ",
        "colab": {
          "base_uri": "https://localhost:8080/"
        },
        "outputId": "06d780e5-2c31-4106-84a0-34a876da190a"
      },
      "execution_count": null,
      "outputs": [
        {
          "output_type": "stream",
          "name": "stderr",
          "text": [
            "Working on PNEUMONIA:: 100%|██████████| 3882/3882 [01:30<00:00, 42.83it/s] \n",
            "Working on NORMAL:: 100%|██████████| 1349/1349 [00:32<00:00, 41.99it/s] \n"
          ]
        }
      ]
    },
    {
      "cell_type": "markdown",
      "source": [
        "# Before building main model, lets test `ResNet50` on raw dataset and filterred dataset"
      ],
      "metadata": {
        "id": "SQ_IgYTtr3YX"
      }
    },
    {
      "cell_type": "code",
      "source": [
        "def build_resnet(input_shape=(224,224,3), num_classes=2):\n",
        "    base = ResNet50(weights=\"imagenet\", include_top=False, input_shape=input_shape)\n",
        "    base.trainable = False\n",
        "\n",
        "    model = models.Sequential([\n",
        "        base,\n",
        "        layers.GlobalAveragePooling2D(),\n",
        "        layers.Dense(128, activation=\"relu\"),\n",
        "        layers.Dropout(0.3),\n",
        "        layers.Dense(64, activation=\"relu\"),\n",
        "        layers.Dropout(0.3),\n",
        "        layers.Dense(num_classes, activation=\"softmax\")\n",
        "    ])\n",
        "    model.compile(\n",
        "        optimizer=tf.keras.optimizers.Adam(1e-4),\n",
        "        loss=\"sparse_categorical_crossentropy\",\n",
        "        metrics=[\"accuracy\"]\n",
        "    )\n",
        "    return model\n"
      ],
      "metadata": {
        "id": "OMd92fKPxBKQ"
      },
      "execution_count": null,
      "outputs": []
    },
    {
      "cell_type": "code",
      "source": [
        "def train_model(X_train, y_train, X_val, y_val, input_shape=(224,224,3), num_classes=2, epochs=10, batch_size=32):\n",
        "    model = build_resnet(input_shape, num_classes)\n",
        "\n",
        "    callbacks = [\n",
        "        tf.keras.callbacks.EarlyStopping(patience=3, restore_best_weights=True),\n",
        "        tf.keras.callbacks.ModelCheckpoint(\"outputs/resnet_model.keras\", save_best_only=True)\n",
        "    ]\n",
        "\n",
        "    history = model.fit(\n",
        "        X_train, y_train,\n",
        "        validation_data=(X_val, y_val),\n",
        "        epochs=epochs,\n",
        "        batch_size=batch_size,\n",
        "        callbacks=callbacks,\n",
        "        verbose=1\n",
        "    )\n",
        "    return model, history\n"
      ],
      "metadata": {
        "id": "Rty32xG79dvo"
      },
      "execution_count": null,
      "outputs": []
    },
    {
      "cell_type": "code",
      "source": [
        "from sklearn.metrics import classification_report, confusion_matrix\n",
        "import numpy as np\n",
        "\n",
        "def evaluate_model(model, X_test, y_test):\n",
        "    preds = model.predict(X_test)\n",
        "    y_pred = np.argmax(preds, axis=1)\n",
        "\n",
        "    print(\"Classification Report:\\n\", classification_report(y_test, y_pred))\n",
        "    print(\"Confusion Matrix:\\n\", confusion_matrix(y_test, y_pred))\n",
        "    acc = (y_pred == y_test).mean()\n",
        "    print(f\"Test Accuracy: {acc:.4f}\")\n",
        "    return acc\n"
      ],
      "metadata": {
        "id": "6azo66iS9qku"
      },
      "execution_count": null,
      "outputs": []
    },
    {
      "cell_type": "code",
      "source": [
        "# Train\n",
        "model, history = train_model(X_train, y_train, X_test, y_test, input_shape=X_train.shape[1:], num_classes=2, epochs=10)\n",
        "\n",
        "# Evaluate\n",
        "acc = evaluate_model(model, X_test, y_test)"
      ],
      "metadata": {
        "colab": {
          "base_uri": "https://localhost:8080/"
        },
        "id": "G8hcR85v9u1_",
        "outputId": "14dcd5d6-4c1e-43e4-f4f8-55e7d2e7834b"
      },
      "execution_count": null,
      "outputs": [
        {
          "output_type": "stream",
          "name": "stdout",
          "text": [
            "Epoch 1/10\n",
            "\u001b[1m164/164\u001b[0m \u001b[32m━━━━━━━━━━━━━━━━━━━━\u001b[0m\u001b[37m\u001b[0m \u001b[1m40s\u001b[0m 173ms/step - accuracy: 0.7961 - loss: 0.4554 - val_accuracy: 0.8253 - val_loss: 0.4071\n",
            "Epoch 2/10\n",
            "\u001b[1m164/164\u001b[0m \u001b[32m━━━━━━━━━━━━━━━━━━━━\u001b[0m\u001b[37m\u001b[0m \u001b[1m23s\u001b[0m 91ms/step - accuracy: 0.9356 - loss: 0.1570 - val_accuracy: 0.8397 - val_loss: 0.4094\n",
            "Epoch 3/10\n",
            "\u001b[1m164/164\u001b[0m \u001b[32m━━━━━━━━━━━━━━━━━━━━\u001b[0m\u001b[37m\u001b[0m \u001b[1m22s\u001b[0m 103ms/step - accuracy: 0.9547 - loss: 0.1259 - val_accuracy: 0.8718 - val_loss: 0.3343\n",
            "Epoch 4/10\n",
            "\u001b[1m164/164\u001b[0m \u001b[32m━━━━━━━━━━━━━━━━━━━━\u001b[0m\u001b[37m\u001b[0m \u001b[1m19s\u001b[0m 91ms/step - accuracy: 0.9609 - loss: 0.0963 - val_accuracy: 0.8702 - val_loss: 0.3444\n",
            "Epoch 5/10\n",
            "\u001b[1m164/164\u001b[0m \u001b[32m━━━━━━━━━━━━━━━━━━━━\u001b[0m\u001b[37m\u001b[0m \u001b[1m20s\u001b[0m 91ms/step - accuracy: 0.9683 - loss: 0.0854 - val_accuracy: 0.8574 - val_loss: 0.3781\n",
            "Epoch 6/10\n",
            "\u001b[1m164/164\u001b[0m \u001b[32m━━━━━━━━━━━━━━━━━━━━\u001b[0m\u001b[37m\u001b[0m \u001b[1m16s\u001b[0m 97ms/step - accuracy: 0.9723 - loss: 0.0721 - val_accuracy: 0.8638 - val_loss: 0.3861\n",
            "\u001b[1m20/20\u001b[0m \u001b[32m━━━━━━━━━━━━━━━━━━━━\u001b[0m\u001b[37m\u001b[0m \u001b[1m10s\u001b[0m 273ms/step\n",
            "Classification Report:\n",
            "               precision    recall  f1-score   support\n",
            "\n",
            "           0       0.96      0.69      0.80       234\n",
            "           1       0.84      0.98      0.91       390\n",
            "\n",
            "    accuracy                           0.87       624\n",
            "   macro avg       0.90      0.84      0.85       624\n",
            "weighted avg       0.88      0.87      0.87       624\n",
            "\n",
            "Confusion Matrix:\n",
            " [[161  73]\n",
            " [  7 383]]\n",
            "Test Accuracy: 0.8718\n"
          ]
        }
      ]
    },
    {
      "cell_type": "code",
      "source": [
        "# Train\n",
        "model1, history1 = train_model(filters_train['clahe'], y_train, filters_test['clahe'], y_test, input_shape=X_train.shape[1:], num_classes=2, epochs=10)\n",
        "\n",
        "# Evaluate\n",
        "acc1 = evaluate_model(model1, filters_test['clahe'], y_test)"
      ],
      "metadata": {
        "colab": {
          "base_uri": "https://localhost:8080/"
        },
        "id": "IsXAikYbEPl2",
        "outputId": "5fc55f4d-c64a-4927-da5c-289538a52362"
      },
      "execution_count": null,
      "outputs": [
        {
          "output_type": "stream",
          "name": "stdout",
          "text": [
            "Epoch 1/10\n",
            "\u001b[1m164/164\u001b[0m \u001b[32m━━━━━━━━━━━━━━━━━━━━\u001b[0m\u001b[37m\u001b[0m \u001b[1m43s\u001b[0m 195ms/step - accuracy: 0.7711 - loss: 0.5284 - val_accuracy: 0.7804 - val_loss: 0.4757\n",
            "Epoch 2/10\n",
            "\u001b[1m164/164\u001b[0m \u001b[32m━━━━━━━━━━━━━━━━━━━━\u001b[0m\u001b[37m\u001b[0m \u001b[1m16s\u001b[0m 98ms/step - accuracy: 0.9245 - loss: 0.1839 - val_accuracy: 0.8317 - val_loss: 0.4206\n",
            "Epoch 3/10\n",
            "\u001b[1m164/164\u001b[0m \u001b[32m━━━━━━━━━━━━━━━━━━━━\u001b[0m\u001b[37m\u001b[0m \u001b[1m20s\u001b[0m 98ms/step - accuracy: 0.9478 - loss: 0.1353 - val_accuracy: 0.8638 - val_loss: 0.3572\n",
            "Epoch 4/10\n",
            "\u001b[1m164/164\u001b[0m \u001b[32m━━━━━━━━━━━━━━━━━━━━\u001b[0m\u001b[37m\u001b[0m \u001b[1m17s\u001b[0m 104ms/step - accuracy: 0.9500 - loss: 0.1236 - val_accuracy: 0.8686 - val_loss: 0.3354\n",
            "Epoch 5/10\n",
            "\u001b[1m164/164\u001b[0m \u001b[32m━━━━━━━━━━━━━━━━━━━━\u001b[0m\u001b[37m\u001b[0m \u001b[1m18s\u001b[0m 92ms/step - accuracy: 0.9565 - loss: 0.1095 - val_accuracy: 0.8365 - val_loss: 0.4282\n",
            "Epoch 6/10\n",
            "\u001b[1m164/164\u001b[0m \u001b[32m━━━━━━━━━━━━━━━━━━━━\u001b[0m\u001b[37m\u001b[0m \u001b[1m16s\u001b[0m 97ms/step - accuracy: 0.9571 - loss: 0.1081 - val_accuracy: 0.8926 - val_loss: 0.2590\n",
            "Epoch 7/10\n",
            "\u001b[1m164/164\u001b[0m \u001b[32m━━━━━━━━━━━━━━━━━━━━\u001b[0m\u001b[37m\u001b[0m \u001b[1m19s\u001b[0m 91ms/step - accuracy: 0.9674 - loss: 0.0874 - val_accuracy: 0.8814 - val_loss: 0.3202\n",
            "Epoch 8/10\n",
            "\u001b[1m164/164\u001b[0m \u001b[32m━━━━━━━━━━━━━━━━━━━━\u001b[0m\u001b[37m\u001b[0m \u001b[1m15s\u001b[0m 91ms/step - accuracy: 0.9670 - loss: 0.0913 - val_accuracy: 0.8990 - val_loss: 0.2636\n",
            "Epoch 9/10\n",
            "\u001b[1m164/164\u001b[0m \u001b[32m━━━━━━━━━━━━━━━━━━━━\u001b[0m\u001b[37m\u001b[0m \u001b[1m15s\u001b[0m 91ms/step - accuracy: 0.9724 - loss: 0.0768 - val_accuracy: 0.8702 - val_loss: 0.3460\n",
            "\u001b[1m20/20\u001b[0m \u001b[32m━━━━━━━━━━━━━━━━━━━━\u001b[0m\u001b[37m\u001b[0m \u001b[1m10s\u001b[0m 269ms/step\n",
            "Classification Report:\n",
            "               precision    recall  f1-score   support\n",
            "\n",
            "           0       0.94      0.76      0.84       234\n",
            "           1       0.87      0.97      0.92       390\n",
            "\n",
            "    accuracy                           0.89       624\n",
            "   macro avg       0.91      0.87      0.88       624\n",
            "weighted avg       0.90      0.89      0.89       624\n",
            "\n",
            "Confusion Matrix:\n",
            " [[179  55]\n",
            " [ 12 378]]\n",
            "Test Accuracy: 0.8926\n"
          ]
        }
      ]
    },
    {
      "cell_type": "markdown",
      "source": [
        "# To be done: Model compariosn, (Will try vgg16, mobilenetv2, densenet121)"
      ],
      "metadata": {
        "id": "Fwy9qNQQEQbK"
      }
    },
    {
      "cell_type": "code",
      "source": [],
      "metadata": {
        "id": "-IZCUJWxE0-R"
      },
      "execution_count": null,
      "outputs": []
    },
    {
      "cell_type": "code",
      "source": [],
      "metadata": {
        "id": "d-oxf7DkE06q"
      },
      "execution_count": null,
      "outputs": []
    },
    {
      "cell_type": "code",
      "source": [],
      "metadata": {
        "id": "k3g93mesEy0T"
      },
      "execution_count": null,
      "outputs": []
    }
  ]
}